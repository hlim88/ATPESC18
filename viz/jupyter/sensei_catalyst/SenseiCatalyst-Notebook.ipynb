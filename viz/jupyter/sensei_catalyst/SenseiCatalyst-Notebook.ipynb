{
 "cells": [
  {
   "cell_type": "markdown",
   "metadata": {},
   "source": [
    "# SENSEI in situ example with Catalyst\n",
    "\n",
    "In this notebook we will explore running a miniapp, intrumented with SENSEI, that simulates atomic oscillators. We will use the SENSEI configurable analysis adaptor to feed data to Catalyst in situ.\n",
    "\n",
    "Now, we can run the miniapp in batch mode (pvbatch), and pass it a configuration file to set up the oscillators.\n",
    "\n",
    "Our test data set is pretty small, but you can imagine wanting to do this for a much larger data set.  \n",
    "\n",
    "We will submit a job from the notebook to run and render frames on Cooley.\n",
    "\n",
    "Once all of the frames are complete, we can encode these frames into a video using ffmpeg.\n",
    "\n",
    "Finally, we will show the resulting video and embed it in this notebook"
   ]
  },
  {
   "cell_type": "markdown",
   "metadata": {},
   "source": [
    "Paths and filenames\n",
    "\n",
    "Create a directory on your home directory for frames and videos and point *framesDir* variable to it. \n",
    "\n",
    "If you cloned the repo in your home directory, you don't need to change the paths below.\n",
    "\n",
    "** Make sure to update my_login with your username on Cooley **\n"
   ]
  },
  {
   "cell_type": "code",
   "execution_count": 3,
   "metadata": {},
   "outputs": [],
   "source": [
    "my_login=\"hyunlim\"\n",
    "\n",
    "framesDir=\"/home/\" + my_login + \"/atpesc/viz/jupyter-ATPESC2018/sensei_catalyst/frames\"\n",
    "videoFileName=\"video.mp4\"\n",
    "xmlConfig=\"/home/\" + my_login + \"/atpesc/viz/jupyter-ATPESC2018/sensei_catalyst/oscillator.xml\"\n",
    "oscFile=\"/home/\" + my_login + \"/atpesc/viz/jupyter-ATPESC2018/sensei_catalyst/sample.osc\"\n",
    "qsubScript=\"/home/\" + my_login + \"/atpesc/viz/jupyter-ATPESC2018/sensei_catalyst/sensei.sh\"\n",
    "\n",
    "# DO NOT CHANGE THIS\n",
    "binaryPath=\"/projects/ATPESC2018/jupyter/sensei-catalyst/bin/oscillator\""
   ]
  },
  {
   "cell_type": "markdown",
   "metadata": {},
   "source": [
    "Clean up previous settings. Do not run the next cell if you need to keep settings and results from previous runs"
   ]
  },
  {
   "cell_type": "code",
   "execution_count": null,
   "metadata": {},
   "outputs": [],
   "source": [
    "%%bash -s \"$framesDir\" \"$videoFileName\" \"$xmlConfig\" \"$oscFile\" \"$qsubScript\"\n",
    "rm $1/*png $2 $3 $4 $5"
   ]
  },
  {
   "cell_type": "markdown",
   "metadata": {},
   "source": [
    "Generate xml config file for Sensei configurable analysis adaptor.\n",
    "We are going to to enable Catalyst and generate slices for each timestep of the simulation"
   ]
  },
  {
   "cell_type": "code",
   "execution_count": 4,
   "metadata": {},
   "outputs": [],
   "source": [
    "%%bash -s \"$xmlConfig\" \"$framesDir\"\n",
    "cat <<EOF >$1\n",
    "<sensei>\n",
    "  <!-- Custom Analyses-->\n",
    "  <!-- Catalyst Analyses -->\n",
    "  <analysis type=\"catalyst\"\n",
    "            pipeline=\"slice\" array=\"data\" association=\"cell\"\n",
    "            image-filename=\"$2/slice-%ts.png\" image-width=\"512\" image-height=\"512\"\n",
    "            slice-normal=\"0,0,1\"\n",
    "            color-range=\"0.0001,1.5\" color-log=\"1\"\n",
    "            enabled=\"1\" />\n",
    "</sensei>\n",
    "EOF"
   ]
  },
  {
   "cell_type": "markdown",
   "metadata": {},
   "source": [
    "Verify xml config file\n"
   ]
  },
  {
   "cell_type": "code",
   "execution_count": 5,
   "metadata": {},
   "outputs": [
    {
     "name": "stdout",
     "output_type": "stream",
     "text": [
      "<sensei>\r\n",
      "  <!-- Custom Analyses-->\r\n",
      "  <!-- Catalyst Analyses -->\r\n",
      "  <analysis type=\"catalyst\"\r\n",
      "            pipeline=\"slice\" array=\"data\" association=\"cell\"\r\n",
      "            image-filename=\"/home/hyunlim/atpesc/viz/jupyter-ATPESC2018/sensei_catalyst/frames/slice-%ts.png\" image-width=\"512\" image-height=\"512\"\r\n",
      "            slice-normal=\"0,0,1\"\r\n",
      "            color-range=\"0.0001,1.5\" color-log=\"1\"\r\n",
      "            enabled=\"1\" />\r\n",
      "</sensei>\r\n"
     ]
    }
   ],
   "source": [
    "! cat \"$xmlConfig\""
   ]
  },
  {
   "cell_type": "markdown",
   "metadata": {},
   "source": [
    "Create file with settings for the simulation"
   ]
  },
  {
   "cell_type": "code",
   "execution_count": 6,
   "metadata": {},
   "outputs": [],
   "source": [
    "%%bash -s \"$oscFile\"\n",
    "cat <<EOF >$1\n",
    "# type      center      r       omega0      zeta\n",
    "damped      32 32 32    10.     3.14        .3\n",
    "damped      16 32 16    10.     9.5         .1\n",
    "damped      48 32 48    5.      3.14        .1\n",
    "decaying    16 32 48    15      3.14\n",
    "periodic    48 32 16    15      3.14\n",
    "EOF"
   ]
  },
  {
   "cell_type": "markdown",
   "metadata": {},
   "source": [
    "Verify simulation settings file"
   ]
  },
  {
   "cell_type": "code",
   "execution_count": 7,
   "metadata": {},
   "outputs": [
    {
     "name": "stdout",
     "output_type": "stream",
     "text": [
      "# type      center      r       omega0      zeta\r\n",
      "damped      32 32 32    10.     3.14        .3\r\n",
      "damped      16 32 16    10.     9.5         .1\r\n",
      "damped      48 32 48    5.      3.14        .1\r\n",
      "decaying    16 32 48    15      3.14\r\n",
      "periodic    48 32 16    15      3.14\r\n"
     ]
    }
   ],
   "source": [
    "! cat \"$oscFile\""
   ]
  },
  {
   "cell_type": "markdown",
   "metadata": {},
   "source": [
    "Finally, we will create a script for qsub"
   ]
  },
  {
   "cell_type": "code",
   "execution_count": 8,
   "metadata": {},
   "outputs": [],
   "source": [
    "%%bash -s \"$qsubScript\" \"$binaryPath\" \"$xmlConfig\" \"$oscFile\"\n",
    "cat <<EOF >$1\n",
    "#!/bin/bash\n",
    "\n",
    "export DISPLAY=:0.0\n",
    "mpiexec -n 8 \\\n",
    " $2 \\\n",
    " -f $3 \\\n",
    " -b 16 \\\n",
    " -t 0.2 \\\n",
    " -s \"128,128,128\" \\\n",
    " $4\n",
    " \n",
    "EOF\n",
    "chmod 755 $1"
   ]
  },
  {
   "cell_type": "markdown",
   "metadata": {},
   "source": [
    "Verify qsub script"
   ]
  },
  {
   "cell_type": "code",
   "execution_count": 9,
   "metadata": {},
   "outputs": [
    {
     "name": "stdout",
     "output_type": "stream",
     "text": [
      "#!/bin/bash\r\n",
      "\r\n",
      "export DISPLAY=:0.0\r\n",
      "mpiexec -n 8  /projects/ATPESC2018/jupyter/sensei-catalyst/bin/oscillator  -f /home/hyunlim/atpesc/viz/jupyter-ATPESC2018/sensei_catalyst/oscillator.xml  -b 16  -t 0.2  -s \"128,128,128\"  /home/hyunlim/atpesc/viz/jupyter-ATPESC2018/sensei_catalyst/sample.osc\r\n",
      " \r\n"
     ]
    }
   ],
   "source": [
    "! cat \"$qsubScript\" "
   ]
  },
  {
   "cell_type": "markdown",
   "metadata": {},
   "source": [
    "At this point we have pretty much everything we need to run the simulation and generate images in situ"
   ]
  },
  {
   "cell_type": "markdown",
   "metadata": {},
   "source": [
    "Since we're going to be submitting jobs to the queue on Cooley, we'll need to tell it what project to charge and what queue to use.\n",
    "\n",
    "During our reservation these values should be set to:\n",
    "\n",
    "* my_project = **\"ATPESC2018\"**\n",
    "* queue = **\"training\"**"
   ]
  },
  {
   "cell_type": "code",
   "execution_count": 10,
   "metadata": {},
   "outputs": [],
   "source": [
    "my_project=\"ATPESC2018\"\n",
    "queue=\"training\""
   ]
  },
  {
   "cell_type": "markdown",
   "metadata": {},
   "source": [
    "Next we will create a batch script, passing it all of the relevant information to submit the jobs"
   ]
  },
  {
   "cell_type": "code",
   "execution_count": 11,
   "metadata": {},
   "outputs": [
    {
     "name": "stdout",
     "output_type": "stream",
     "text": [
      "ATPESC2018 training /home/hyunlim/atpesc/viz/jupyter-ATPESC2018/sensei_catalyst/sensei.sh\n",
      "1611253\n"
     ]
    }
   ],
   "source": [
    "%%bash -s \"$my_project\" \"$queue\" \"$qsubScript\"\n",
    "echo $1 $2 $3\n",
    "/bin/qsub -n 1 -t 30 -A $1 -q $2 $3"
   ]
  },
  {
   "cell_type": "markdown",
   "metadata": {},
   "source": [
    "Once we've run the above script, we can check the queue to see the state of our jobs:"
   ]
  },
  {
   "cell_type": "code",
   "execution_count": 20,
   "metadata": {},
   "outputs": [
    {
     "name": "stdout",
     "output_type": "stream",
     "text": [
      "JobID    JobName  User     Score    WallTime  QueuedTime  RunTime   Nodes  State    Location      Mode    Procs  Queue     StartTime                             \r\n",
      "=================================================================================================================================================================\r\n",
      "1611253  N/A      hyunlim    0.2    00:30:00  00:00:16    00:00:47  1      exiting  cc115.cooley  script  1      training  Thu Aug 09 22:14:04 2018 +0000 (UTC)  \r\n"
     ]
    }
   ],
   "source": [
    "! /bin/qstat -fu $my_login"
   ]
  },
  {
   "cell_type": "markdown",
   "metadata": {},
   "source": [
    "We can also check our frames directory to see how many of the frames have completed.  Once this reaches 51, we will be finished rendering.  If you then go back to the previous cell, and check the queue again, you should see your jobs exiting (or nothing if they have already finished exiting).\n",
    "    "
   ]
  },
  {
   "cell_type": "code",
   "execution_count": 21,
   "metadata": {
    "scrolled": false
   },
   "outputs": [
    {
     "name": "stdout",
     "output_type": "stream",
     "text": [
      "51\r\n"
     ]
    }
   ],
   "source": [
    "! ls \"$framesDir\" | wc -l "
   ]
  },
  {
   "cell_type": "markdown",
   "metadata": {},
   "source": [
    "If we want to look at one of the frames while the simulation is still running, set *frame_number\" to a valid frame number, and run the cell"
   ]
  },
  {
   "cell_type": "code",
   "execution_count": 22,
   "metadata": {
    "scrolled": false
   },
   "outputs": [
    {
     "data": {
      "image/png": "[encoded data removed]",
      "text/plain": [
       "<IPython.core.display.Image object>"
      ]
     },
     "execution_count": 22,
     "metadata": {},
     "output_type": "execute_result"
    }
   ],
   "source": [
    "frame_number=0\n",
    "from IPython.display import Image\n",
    "Image(filename=framesDir+'/slice-'+ str(frame_number)+'.png') "
   ]
  },
  {
   "cell_type": "markdown",
   "metadata": {},
   "source": [
    "We will generate a video file now with ffmpeg. Let's use the frames generated above"
   ]
  },
  {
   "cell_type": "code",
   "execution_count": 23,
   "metadata": {},
   "outputs": [
    {
     "name": "stdout",
     "output_type": "stream",
     "text": [
      "ffmpeg version N-90676-g876f9ac Copyright (c) 2000-2018 the FFmpeg developers\n",
      "  built with gcc 4.8.1 (GCC)\n",
      "  configuration: --prefix=/projects/visualization/srizzi/ffmpeg/ffmpeg_build/ --pkg-config-flags=--static --extra-cflags=-I/projects/visualization/srizzi/ffmpeg/ffmpeg_build/include --extra-ldflags=-L/projects/visualization/srizzi/ffmpeg/ffmpeg_build/lib --extra-libs=-lpthread --extra-libs=-lm --bindir=/projects/visualization/srizzi/ffmpeg/ffmpeg_bin/ --enable-gpl --enable-libfreetype --enable-libx264 --enable-nonfree\n",
      "  libavutil      56. 13.100 / 56. 13.100\n",
      "  libavcodec     58. 17.100 / 58. 17.100\n",
      "  libavformat    58. 11.101 / 58. 11.101\n",
      "  libavdevice    58.  2.100 / 58.  2.100\n",
      "  libavfilter     7. 15.100 /  7. 15.100\n",
      "  libswscale      5.  0.102 /  5.  0.102\n",
      "  libswresample   3.  0.101 /  3.  0.101\n",
      "  libpostproc    55.  0.100 / 55.  0.100\n",
      "Input #0, image2, from '/home/hyunlim/atpesc/viz/jupyter-ATPESC2018/sensei_catalyst/frames/slice-%d.png':\n",
      "  Duration: 00:00:02.04, start: 0.000000, bitrate: N/A\n",
      "    Stream #0:0: Video: png, rgb24(pc), 512x512, 25 fps, 25 tbr, 25 tbn, 25 tbc\n",
      "Stream mapping:\n",
      "  Stream #0:0 -> #0:0 (png (native) -> h264 (libx264))\n",
      "Press [q] to stop, [?] for help\n",
      "\u001b[1;36m[libx264 @ 0x3871780] \u001b[0musing cpu capabilities: MMX2 SSE2Fast SSSE3 SSE4.2 AVX FMA3 BMI2 AVX2\n",
      "\u001b[1;36m[libx264 @ 0x3871780] \u001b[0mprofile High, level 3.0\n",
      "\u001b[1;36m[libx264 @ 0x3871780] \u001b[0m264 - core 155 - H.264/MPEG-4 AVC codec - Copyleft 2003-2018 - http://www.videolan.org/x264.html - options: cabac=1 ref=3 deblock=1:0:0 analyse=0x3:0x113 me=hex subme=7 psy=1 psy_rd=1.00:0.00 mixed_ref=1 me_range=16 chroma_me=1 trellis=1 8x8dct=1 cqm=0 deadzone=21,11 fast_pskip=1 chroma_qp_offset=-2 threads=16 lookahead_threads=2 sliced_threads=0 nr=0 decimate=1 interlaced=0 bluray_compat=0 constrained_intra=0 bframes=3 b_pyramid=2 b_adapt=1 b_bias=0 direct=1 weightb=1 open_gop=0 weightp=2 keyint=250 keyint_min=25 scenecut=40 intra_refresh=0 rc_lookahead=40 rc=crf mbtree=1 crf=23.0 qcomp=0.60 qpmin=0 qpmax=69 qpstep=4 ip_ratio=1.40 aq=1:1.00\n",
      "Output #0, mp4, to 'video.mp4':\n",
      "  Metadata:\n",
      "    encoder         : Lavf58.11.101\n",
      "    Stream #0:0: Video: h264 (libx264) (avc1 / 0x31637661), yuv420p, 512x512, q=-1--1, 25 fps, 12800 tbn, 25 tbc\n",
      "    Metadata:\n",
      "      encoder         : Lavc58.17.100 libx264\n",
      "    Side data:\n",
      "      cpb: bitrate max/min/avg: 0/0/0 buffer size: 0 vbv_delay: -1\n",
      "frame=  254 fps=0.0 q=-1.0 Lsize=      42kB time=00:00:10.04 bitrate=  34.4kbits/s dup=203 drop=0 speed=  41x    \n",
      "video:38kB audio:0kB subtitle:0kB other streams:0kB global headers:0kB muxing overhead: 9.908991%\n",
      "\u001b[1;36m[libx264 @ 0x3871780] \u001b[0mframe I:2     Avg QP:11.24  size:  2051\n",
      "\u001b[1;36m[libx264 @ 0x3871780] \u001b[0mframe P:64    Avg QP:15.63  size:   400\n",
      "\u001b[1;36m[libx264 @ 0x3871780] \u001b[0mframe B:188   Avg QP:13.45  size:    47\n",
      "\u001b[1;36m[libx264 @ 0x3871780] \u001b[0mconsecutive B-frames:  0.8%  1.6%  0.0% 97.6%\n",
      "\u001b[1;36m[libx264 @ 0x3871780] \u001b[0mmb I  I16..4: 82.4% 12.9%  4.6%\n",
      "\u001b[1;36m[libx264 @ 0x3871780] \u001b[0mmb P  I16..4:  2.0%  1.7%  0.2%  P16..4:  5.7%  0.7%  0.1%  0.0%  0.0%    skip:89.6%\n",
      "\u001b[1;36m[libx264 @ 0x3871780] \u001b[0mmb B  I16..4:  0.0%  0.0%  0.0%  B16..8:  2.3%  0.0%  0.0%  direct: 0.0%  skip:97.6%  L0:52.0% L1:47.8% BI: 0.2%\n",
      "\u001b[1;36m[libx264 @ 0x3871780] \u001b[0m8x8 transform intra:29.3% inter:83.8%\n",
      "\u001b[1;36m[libx264 @ 0x3871780] \u001b[0mcoded y,uvDC,uvAC intra: 11.0% 35.1% 7.1% inter: 0.2% 0.8% 0.0%\n",
      "\u001b[1;36m[libx264 @ 0x3871780] \u001b[0mi16 v,h,dc,p: 55% 18%  3% 24%\n",
      "\u001b[1;36m[libx264 @ 0x3871780] \u001b[0mi8 v,h,dc,ddl,ddr,vr,hd,vl,hu: 22% 13% 43%  3%  5%  3%  5%  3%  3%\n",
      "\u001b[1;36m[libx264 @ 0x3871780] \u001b[0mi4 v,h,dc,ddl,ddr,vr,hd,vl,hu: 27% 27% 33%  2%  4%  2%  3%  1%  1%\n",
      "\u001b[1;36m[libx264 @ 0x3871780] \u001b[0mi8c dc,h,v,p: 51% 20% 13% 16%\n",
      "\u001b[1;36m[libx264 @ 0x3871780] \u001b[0mWeighted P-Frames: Y:1.6% UV:0.0%\n",
      "\u001b[1;36m[libx264 @ 0x3871780] \u001b[0mref P L0: 79.5%  2.9% 11.3%  5.8%  0.4%\n",
      "\u001b[1;36m[libx264 @ 0x3871780] \u001b[0mref B L0: 76.8% 22.6%  0.6%\n",
      "\u001b[1;36m[libx264 @ 0x3871780] \u001b[0mref B L1: 99.0%  1.0%\n",
      "\u001b[1;36m[libx264 @ 0x3871780] \u001b[0mkb/s:30.36\n"
     ]
    }
   ],
   "source": [
    "! /soft/visualization/ffmpeg/ffmpeg -r 5 -i \"$framesDir\"/slice-%d.png -pix_fmt yuv420p -r 25 \"$videoFileName\""
   ]
  },
  {
   "cell_type": "markdown",
   "metadata": {},
   "source": [
    "Now we embed the video in HTML format so we can view it here! if all works \n",
    "we should see a video of the simulation."
   ]
  },
  {
   "cell_type": "code",
   "execution_count": 24,
   "metadata": {},
   "outputs": [
    {
     "data": {
      "text/html": [
       "<video controls> <source src=\"video.mp4\" type=\"video/mp4\"> </video>"
      ],
      "text/plain": [
       "<IPython.core.display.HTML object>"
      ]
     },
     "execution_count": 24,
     "metadata": {},
     "output_type": "execute_result"
    }
   ],
   "source": [
    "# import modules\n",
    "import io\n",
    "import os\n",
    "from IPython.display import HTML\n",
    "# Embed the video using HTML\n",
    "HTML(data='<video controls> <source src=\"' + videoFileName + '\" type=\"video/mp4\"> </video>') "
   ]
  },
  {
   "cell_type": "code",
   "execution_count": null,
   "metadata": {},
   "outputs": [],
   "source": []
  }
 ],
 "metadata": {
  "kernelspec": {
   "display_name": "Python 3",
   "language": "python",
   "name": "python3"
  },
  "language_info": {
   "codemirror_mode": {
    "name": "ipython",
    "version": 3
   },
   "file_extension": ".py",
   "mimetype": "text/x-python",
   "name": "python",
   "nbconvert_exporter": "python",
   "pygments_lexer": "ipython3",
   "version": "3.6.4"
  }
 },
 "nbformat": 4,
 "nbformat_minor": 2
}
