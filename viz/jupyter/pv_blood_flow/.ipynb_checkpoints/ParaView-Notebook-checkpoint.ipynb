{
 "cells": [
  {
   "cell_type": "markdown",
   "metadata": {},
   "source": [
    "# ParaView Batch example notebook\n",
    "\n",
    "In this notebook we will explore running ParaView in batch mode on Cooley.\n",
    "\n",
    "\n",
    "Let's assume that we have a time series of data files, and we want to generate an animation of that time series. \n",
    "* We would first run ParaView in interactive mode and set up our visualization pipeline, adding desired filters, etc.\n",
    "* Once our pipeline is all set we can save the state as a Python script\n",
    " * File->Save State -> filename.py\n",
    "\n",
    "There's an example state file named: **blood_flow_state_01.py**\n",
    "\n",
    "Let's take a look at that first...\n",
    "\n",
    "------\n",
    "\n",
    "\n",
    "\n",
    "Now, we can run ParaView in batch mode (pvbatch), and pass it that Python script to render a set of frames from that time series.\n",
    "\n",
    "Our test data set is pretty small, but you can imagine wanting to do this for a much larger data set.  In which case, it would be useful to be able to have multiple jobs processing different sets of frames at the same time, in order to reduce the overall wait time.\n",
    "\n",
    "So, we will submit multiple jobs to run  pvbatch and render different sets of frames.\n",
    "\n",
    "Once all of the frames are complete, we can encode these frames into a video using ffmpeg.\n",
    "\n",
    "Finally, we will show the resulting video and embed it in this notebook"
   ]
  },
  {
   "cell_type": "markdown",
   "metadata": {},
   "source": [
    "Paths and filenames\n",
    "\n",
    "Create a directory on your home directory for frames and videos and point *framesDir* variable to it\n",
    "\n",
    "We also specify the path to our ParaView Python state file"
   ]
  },
  {
   "cell_type": "code",
   "execution_count": null,
   "metadata": {},
   "outputs": [],
   "source": [
    "my_login=\"hyunlim\"\n",
    "\n",
    "framesDir=\"/home/\" + my_login + \"/jupyter-ATPESC2018/pv_blood_flow/frames/\"\n",
    "videoFileName=\"video.mp4\"\n",
    "\n",
    "pv_script=\"/home/\" + my_login + \"/jupyter-ATPESC2018/pv_blood_flow/blood_flow_state_01.py\""
   ]
  },
  {
   "cell_type": "markdown",
   "metadata": {},
   "source": [
    "Our example data set has 100 time steps.  So we'll set the total number of frames. In a minute we're going to submit two jobs, each will render half of the time steps.  So, we'll also set the number of half of the frames."
   ]
  },
  {
   "cell_type": "code",
   "execution_count": null,
   "metadata": {
    "scrolled": true
   },
   "outputs": [],
   "source": [
    "start_frame = 0\n",
    "num_frames = 100\n",
    "num_frames_half = int(num_frames/2)\n",
    "print (\"num_frames_half: \" , num_frames_half)"
   ]
  },
  {
   "cell_type": "markdown",
   "metadata": {},
   "source": [
    "Clean up directory containing frames. \n",
    "\n",
    "Think carefully before running. You may not want to delete frames from a previous run\n"
   ]
  },
  {
   "cell_type": "code",
   "execution_count": null,
   "metadata": {},
   "outputs": [],
   "source": [
    "! [ -e \"$framesDir/frame_\"0000.png ] && rm \"$framesDir/frame_\"*png && echo \"previous frames deleted\" || echo \"frames directory was empty\""
   ]
  },
  {
   "cell_type": "markdown",
   "metadata": {},
   "source": [
    "Check to make sure frames directory is empty"
   ]
  },
  {
   "cell_type": "code",
   "execution_count": null,
   "metadata": {
    "scrolled": true
   },
   "outputs": [],
   "source": [
    "! ls -la \"$framesDir\""
   ]
  },
  {
   "cell_type": "markdown",
   "metadata": {},
   "source": [
    "Since we're going to be submitting jobs to the queue on Cooley, we'll need to tell it what project to charge and what queue to use.  We'll also set our login name, so that we can check on our jobs in the queue once we submit them.\n",
    "\n",
    "During our reservation these values should be set to:\n",
    "\n",
    "* my_project = **\"ATPESC2018\"**\n",
    "* queue = **\"training\"**"
   ]
  },
  {
   "cell_type": "code",
   "execution_count": null,
   "metadata": {},
   "outputs": [],
   "source": [
    "my_project=\"ATPESC2018\"\n",
    "queue=\"training\""
   ]
  },
  {
   "cell_type": "markdown",
   "metadata": {},
   "source": [
    "Next we will create a batch script, passing it all of the relevant information.  That script will submit two jobs, one to render the first half of our frames, and another to render the second half."
   ]
  },
  {
   "cell_type": "code",
   "execution_count": null,
   "metadata": {},
   "outputs": [],
   "source": [
    "%%bash -s  \"$my_project\" \"$queue\" \"$pv_script\" \"$start_frame\" \"$num_frames_half\" \"$framesDir\" \n",
    "echo $1 $2 $3 $4 $5 $6\n",
    "/bin/qsub -n 1 -t 30 -A $1 -q $2 --env DISPLAY=:0.0 /soft/visualization/paraview/v5.5.2/bin/pvbatch $3 $4 $5 $6\n",
    "/bin/qsub -n 1 -t 30 -A $1 -q $2 --env DISPLAY=:0.0 /soft/visualization/paraview/v5.5.2/bin/pvbatch $3 $5 $5 $6\n",
    "\n"
   ]
  },
  {
   "cell_type": "markdown",
   "metadata": {},
   "source": [
    "Once we've run the above script, we can check the queue to see the state of our jobs:"
   ]
  },
  {
   "cell_type": "code",
   "execution_count": null,
   "metadata": {},
   "outputs": [],
   "source": [
    "! /bin/qstat -fu $my_login"
   ]
  },
  {
   "cell_type": "markdown",
   "metadata": {},
   "source": [
    "We can also check our frames directory to see how many of the frames have completed.  Once this reaches 100, we will be finished rendering.  If you then go back to the previous cell, and check the queue again, you should see your jobs exiting (or nothing if they have already finished exiting).\n",
    "    "
   ]
  },
  {
   "cell_type": "code",
   "execution_count": null,
   "metadata": {
    "scrolled": false
   },
   "outputs": [],
   "source": [
    "! ls \"$framesDir\" | wc -l "
   ]
  },
  {
   "cell_type": "markdown",
   "metadata": {},
   "source": [
    "If there is an older version of your video file, delete.\n",
    "\n",
    "Again, think twice before running the next cell. You may not want to delete this file before copying it somewhere else"
   ]
  },
  {
   "cell_type": "code",
   "execution_count": null,
   "metadata": {},
   "outputs": [],
   "source": [
    "! [ -e \"$videoFileName\" ] && rm \"$videoFileName\" && echo \"previous video file deleted\" || echo \"no previous video file\""
   ]
  },
  {
   "cell_type": "markdown",
   "metadata": {},
   "source": [
    "We will generate a video file now with ffmpeg. Let's use the frames generated above"
   ]
  },
  {
   "cell_type": "code",
   "execution_count": null,
   "metadata": {},
   "outputs": [],
   "source": [
    "! /soft/visualization/ffmpeg/ffmpeg -r 15 -i \"$framesDir\"/frame_%04d.png -pix_fmt yuv420p -r 25 \"$videoFileName\""
   ]
  },
  {
   "cell_type": "markdown",
   "metadata": {},
   "source": [
    "Now we embed the video in HTML format so we can view it here! if all works \n",
    "we should see a video of the simulation."
   ]
  },
  {
   "cell_type": "code",
   "execution_count": null,
   "metadata": {},
   "outputs": [],
   "source": [
    "# import modules\n",
    "import io\n",
    "import os\n",
    "from IPython.display import HTML\n",
    "# Embed the video using HTML\n",
    "HTML(data='<video controls> <source src=\"' + videoFileName + '\" type=\"video/mp4\"> </video>') "
   ]
  }
 ],
 "metadata": {
  "kernelspec": {
   "display_name": "Python 3",
   "language": "python",
   "name": "python3"
  },
  "language_info": {
   "codemirror_mode": {
    "name": "ipython",
    "version": 3
   },
   "file_extension": ".py",
   "mimetype": "text/x-python",
   "name": "python",
   "nbconvert_exporter": "python",
   "pygments_lexer": "ipython3",
   "version": "3.6.4"
  }
 },
 "nbformat": 4,
 "nbformat_minor": 2
}
