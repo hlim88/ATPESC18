{
 "cells": [
  {
   "cell_type": "markdown",
   "metadata": {},
   "source": [
    "# SENSEI in situ example with Libsim\n",
    "\n",
    "In this notebook we will explore running a miniapp, intrumented with SENSEI, that simulates atomic oscillators. We will use the SENSEI configurable analysis adaptor to feed data to Libsim in situ.\n",
    "\n",
    "Now, we can run the miniapp and pass it a configuration file to set up the oscillators.\n",
    "\n",
    "Note that in this case we will not submit a job to the queue. The simulation and in situ visualization will run on the node.\n",
    "\n",
    "Once all of the frames are complete, we can encode these frames into a video using ffmpeg.\n",
    "\n",
    "Finally, we will show the resulting video and embed it in this notebook"
   ]
  },
  {
   "cell_type": "markdown",
   "metadata": {},
   "source": [
    "Paths and filenames\n",
    "\n",
    "Create a directory on your home directory for frames and videos and point *framesDir* variable to it. \n",
    "\n",
    "If you cloned the repo in your home directory, you don't need to change the paths below.\n",
    "\n",
    "** Make sure to update my_login with your username on Cooley **"
   ]
  },
  {
   "cell_type": "code",
   "execution_count": 1,
   "metadata": {},
   "outputs": [],
   "source": [
    "#my_login=\"YOUR_COOLEY_USERNAME_HERE\"\n",
    "my_login=\"hyunlim\"\n",
    "\n",
    "framesDir=\"/home/\" + my_login + \"/atpesc/viz/jupyter-ATPESC2018/sensei_libsim/frames\"\n",
    "videoFileName=\"video.mp4\"\n",
    "xmlConfig=\"/home/\" + my_login + \"/atpesc/viz/jupyter-ATPESC2018/sensei_libsim/oscillator.xml\"\n",
    "oscFile=\"/home/\" + my_login + \"/atpesc/viz/jupyter-ATPESC2018/sensei_libsim/sample.osc\"\n",
    "\n",
    "# DO NOT CHANGE THIS\n",
    "binaryPath=\"/projects/ATPESC2018/jupyter/sensei-libsim/bin/oscillator\"\n",
    "visitSession=\"oscillator.session\""
   ]
  },
  {
   "cell_type": "markdown",
   "metadata": {},
   "source": [
    "Clean up previous settings. Do not run the next cell if you need to keep settings and results from previous runs"
   ]
  },
  {
   "cell_type": "code",
   "execution_count": 2,
   "metadata": {},
   "outputs": [
    {
     "name": "stderr",
     "output_type": "stream",
     "text": [
      "rm: cannot remove ‘/home/srizzi/jupyter-ATPESC2018/sensei_libsim/frames/*png’: No such file or directory\n",
      "rm: cannot remove ‘video.mp4’: No such file or directory\n"
     ]
    }
   ],
   "source": [
    "%%bash -s \"$framesDir\" \"$videoFileName\" \"$xmlConfig\" \"$oscFile\"\n",
    "rm $1/*png $2 $3 $4"
   ]
  },
  {
   "cell_type": "markdown",
   "metadata": {},
   "source": [
    "Generate xml config file for Sensei configurable analysis adaptor.\n",
    "We are going to enable Libsim and use a previously saved session in Visit"
   ]
  },
  {
   "cell_type": "code",
   "execution_count": 2,
   "metadata": {},
   "outputs": [],
   "source": [
    "%%bash -s \"$xmlConfig\" \"$framesDir\"\n",
    "cat <<EOF >$1\n",
    "<sensei>\n",
    "  <!-- Custom Analyses-->\n",
    "  <!-- Libsim Batch Analysis using session file -->\n",
    "  <analysis type=\"libsim\" \n",
    "            visitdir=\"/soft/visualization/visit\" \n",
    "            mode=\"batch\" \n",
    "            frequency=\"1\"\n",
    "            session=\"oscillator.session\"\n",
    "            image-filename=\"$2/%ts.png\" \n",
    "            image-width=\"512\" \n",
    "            image-height=\"512\" \n",
    "            image-format=\"png\"\n",
    "            enabled=\"1\"/>\n",
    "</sensei>\n",
    "EOF"
   ]
  },
  {
   "cell_type": "markdown",
   "metadata": {},
   "source": [
    "Verify xml config file\n"
   ]
  },
  {
   "cell_type": "code",
   "execution_count": 3,
   "metadata": {},
   "outputs": [
    {
     "name": "stdout",
     "output_type": "stream",
     "text": [
      "<sensei>\r\n",
      "  <!-- Custom Analyses-->\r\n",
      "  <!-- Libsim Batch Analysis using session file -->\r\n",
      "  <analysis type=\"libsim\" \r\n",
      "            visitdir=\"/soft/visualization/visit\" \r\n",
      "            mode=\"batch\" \r\n",
      "            frequency=\"1\"\r\n",
      "            session=\"oscillator.session\"\r\n",
      "            image-filename=\"/home/hyunlim/atpesc/viz/jupyter-ATPESC2018/sensei_libsim/frames/%ts.png\" \r\n",
      "            image-width=\"512\" \r\n",
      "            image-height=\"512\" \r\n",
      "            image-format=\"png\"\r\n",
      "            enabled=\"1\"/>\r\n",
      "</sensei>\r\n"
     ]
    }
   ],
   "source": [
    "! cat \"$xmlConfig\""
   ]
  },
  {
   "cell_type": "markdown",
   "metadata": {},
   "source": [
    "Create file with settings for the simulation"
   ]
  },
  {
   "cell_type": "code",
   "execution_count": 4,
   "metadata": {},
   "outputs": [],
   "source": [
    "%%bash -s \"$oscFile\"\n",
    "cat <<EOF >$1\n",
    "# type      center      r       omega0      zeta\n",
    "damped      32 32 32    10.     3.14        .3\n",
    "damped      16 32 16    10.     9.5         .1\n",
    "damped      48 32 48    5.      3.14        .1\n",
    "decaying    16 32 48    15      3.14\n",
    "periodic    48 32 16    15      3.14\n",
    "EOF"
   ]
  },
  {
   "cell_type": "markdown",
   "metadata": {},
   "source": [
    "Verify simulation settings file"
   ]
  },
  {
   "cell_type": "code",
   "execution_count": 5,
   "metadata": {},
   "outputs": [
    {
     "name": "stdout",
     "output_type": "stream",
     "text": [
      "# type      center      r       omega0      zeta\r\n",
      "damped      32 32 32    10.     3.14        .3\r\n",
      "damped      16 32 16    10.     9.5         .1\r\n",
      "damped      48 32 48    5.      3.14        .1\r\n",
      "decaying    16 32 48    15      3.14\r\n",
      "periodic    48 32 16    15      3.14\r\n"
     ]
    }
   ],
   "source": [
    "! cat \"$oscFile\""
   ]
  },
  {
   "cell_type": "markdown",
   "metadata": {},
   "source": [
    "\n",
    "Run the simulation"
   ]
  },
  {
   "cell_type": "code",
   "execution_count": 9,
   "metadata": {},
   "outputs": [
    {
     "name": "stderr",
     "output_type": "stream",
     "text": [
      "bash: line 4: mpiexec: command not found\n"
     ]
    }
   ],
   "source": [
    "%%bash -s \"$binaryPath\" \"$xmlConfig\" \"$oscFile\"\n",
    "\n",
    "export LD_LIBRARY_PATH=/soft/visualization/visit/2.13.2/linux-x86_64/lib/osmesa:/soft/visualization/visit/2.13.2/linux-x86_64/lib:/soft/visualization/visit/bin/../current/linux-x86_64/lib:$LD_LIBRARY_PATH\n",
    "export DISPLAY=:0.0\n",
    "mpiexec -n 8 \\\n",
    " $1 \\\n",
    " -f $2 \\\n",
    " -b 16 \\\n",
    " -t 0.1 \\\n",
    " -s \"64,64,64\" \\\n",
    " $3\n"
   ]
  },
  {
   "cell_type": "markdown",
   "metadata": {},
   "source": [
    "We can also check our frames directory to see how many of the frames have completed.  Once this reaches 100, we will be finished rendering."
   ]
  },
  {
   "cell_type": "code",
   "execution_count": 7,
   "metadata": {
    "scrolled": false
   },
   "outputs": [],
   "source": [
    "! ls \"$framesDir\"\n"
   ]
  },
  {
   "cell_type": "markdown",
   "metadata": {},
   "source": [
    "We will generate a video file now with ffmpeg. Let's use the frames generated above"
   ]
  },
  {
   "cell_type": "code",
   "execution_count": null,
   "metadata": {},
   "outputs": [],
   "source": [
    "! /soft/visualization/ffmpeg/ffmpeg -r 10 -i \"$framesDir\"/%05d.png -pix_fmt yuv420p -r 25 \"$videoFileName\""
   ]
  },
  {
   "cell_type": "markdown",
   "metadata": {},
   "source": [
    "Now we embed the video in HTML format so we can view it here! if all works \n",
    "we should see a video of the simulation."
   ]
  },
  {
   "cell_type": "code",
   "execution_count": null,
   "metadata": {},
   "outputs": [],
   "source": [
    "# import modules\n",
    "import io\n",
    "import os\n",
    "from IPython.display import HTML\n",
    "# Embed the video using HTML\n",
    "HTML(data='<video controls> <source src=\"' + videoFileName + '\" type=\"video/mp4\"> </video>') "
   ]
  }
 ],
 "metadata": {
  "kernelspec": {
   "display_name": "Python 3",
   "language": "python",
   "name": "python3"
  },
  "language_info": {
   "codemirror_mode": {
    "name": "ipython",
    "version": 3
   },
   "file_extension": ".py",
   "mimetype": "text/x-python",
   "name": "python",
   "nbconvert_exporter": "python",
   "pygments_lexer": "ipython3",
   "version": "3.6.4"
  }
 },
 "nbformat": 4,
 "nbformat_minor": 2
}
